{
 "cells": [
  {
   "cell_type": "code",
   "execution_count": 3,
   "metadata": {},
   "outputs": [
    {
     "data": {
      "text/plain": [
       "'\\nNegative (92%) --> Positive (99%)\\n\\nThis movie is a great movie ONLY if you need something to sit and laugh at the stupidity of it. As a geologist this movie gets most of the important facts wrong and uses actors that are too young to even be considered in the top of their fields. It is interesting how it shows spurting lava in massive caverns below the Earth\\'s surface. It also is funny how seismically active areas are shown to have massive destruction from a 6.5 magnitude earthquake. They seem to forget the building standards in these areas would be higher needing a bigger quake to do this much damage. Also it is funny how much they make the coast line of Washington State and also Oregon to look as though they are nice beaches of Southern California. The Jelly donut analogy is very entertaining even if the way it is used is wrong. The director does a good job of adding more comic relief with the 2 \"supossed\" PhD\\'s.\\n\\nThis movie is a splendid movie ONLY if you need something to sit and laugh at the stupidity of it. As a geologist this movie gets most of the important facts wrong and uses actors that are too young to even be considered in the top of their fields. It is interesting how it shows spurting lava in massive caverns below the Earth\\'s surface. It also is funny how seismically active areas are shown to have massive destruction from a 6.5 magnitude earthquake. They seem to forget the building standards in these areas would be higher needing a bigger quake to do this much damage. Also it is funny how much they make the coast line of Washington State and also Oregon to look as though they are nice beaches of Southern California. The Jelly donut analogy is very entertaining even if the way it is used is wrong. The director does a good job of adding more comic relief with the 2 \"supossed\" PhD\\'s.\\n'"
      ]
     },
     "execution_count": 3,
     "metadata": {},
     "output_type": "execute_result"
    }
   ],
   "source": [
    "\"\"\"\n",
    "Negative (92%) --> Positive (99%)\n",
    "\n",
    "This movie is a great movie ONLY if you need something to sit and laugh at the stupidity of it. As a geologist this movie gets most of the important facts wrong and uses actors that are too young to even be considered in the top of their fields. It is interesting how it shows spurting lava in massive caverns below the Earth's surface. It also is funny how seismically active areas are shown to have massive destruction from a 6.5 magnitude earthquake. They seem to forget the building standards in these areas would be higher needing a bigger quake to do this much damage. Also it is funny how much they make the coast line of Washington State and also Oregon to look as though they are nice beaches of Southern California. The Jelly donut analogy is very entertaining even if the way it is used is wrong. The director does a good job of adding more comic relief with the 2 \"supossed\" PhD's.\n",
    "\n",
    "This movie is a splendid movie ONLY if you need something to sit and laugh at the stupidity of it. As a geologist this movie gets most of the important facts wrong and uses actors that are too young to even be considered in the top of their fields. It is interesting how it shows spurting lava in massive caverns below the Earth's surface. It also is funny how seismically active areas are shown to have massive destruction from a 6.5 magnitude earthquake. They seem to forget the building standards in these areas would be higher needing a bigger quake to do this much damage. Also it is funny how much they make the coast line of Washington State and also Oregon to look as though they are nice beaches of Southern California. The Jelly donut analogy is very entertaining even if the way it is used is wrong. The director does a good job of adding more comic relief with the 2 \"supossed\" PhD's.\n",
    "\"\"\"\n",
    "\n",
    "# ONLY CHANGE IS THE WORD \"great\" --> \"splendid\""
   ]
  },
  {
   "cell_type": "code",
   "execution_count": 4,
   "metadata": {},
   "outputs": [],
   "source": [
    "s1 = \"This movie is a great movie ONLY if you need something to sit and laugh at the stupidity of it. As a geologist this movie gets most of the important facts wrong and uses actors that are too young to even be considered in the top of their fields. It is interesting how it shows spurting lava in massive caverns below the Earth's surface. It also is funny how seismically active areas are shown to have massive destruction from a 6.5 magnitude earthquake. They seem to forget the building standards in these areas would be higher needing a bigger quake to do this much damage. Also it is funny how much they make the coast line of Washington State and also Oregon to look as though they are nice beaches of Southern California. The Jelly donut analogy is very entertaining even if the way it is used is wrong. The director does a good job of adding more comic relief with the 2 \\\"supossed\\\" PhD's.\"\n",
    "s2 = \"This movie is a splendid movie ONLY if you need something to sit and laugh at the stupidity of it. As a geologist this movie gets most of the important facts wrong and uses actors that are too young to even be considered in the top of their fields. It is interesting how it shows spurting lava in massive caverns below the Earth's surface. It also is funny how seismically active areas are shown to have massive destruction from a 6.5 magnitude earthquake. They seem to forget the building standards in these areas would be higher needing a bigger quake to do this much damage. Also it is funny how much they make the coast line of Washington State and also Oregon to look as though they are nice beaches of Southern California. The Jelly donut analogy is very entertaining even if the way it is used is wrong. The director does a good job of adding more comic relief with the 2 \\\"supossed\\\" PhD's.\""
   ]
  },
  {
   "cell_type": "code",
   "execution_count": 5,
   "metadata": {},
   "outputs": [
    {
     "name": "stdout",
     "output_type": "stream",
     "text": [
      "great splendid\n"
     ]
    }
   ],
   "source": [
    "s1 = s1.split()\n",
    "s2 = s2.split()\n",
    "for x,y in zip(s1,s2):\n",
    "    if x != y:\n",
    "        print(x,y)"
   ]
  },
  {
   "cell_type": "code",
   "execution_count": null,
   "metadata": {},
   "outputs": [],
   "source": []
  }
 ],
 "metadata": {
  "kernelspec": {
   "display_name": "nlp",
   "language": "python",
   "name": "python3"
  },
  "language_info": {
   "codemirror_mode": {
    "name": "ipython",
    "version": 3
   },
   "file_extension": ".py",
   "mimetype": "text/x-python",
   "name": "python",
   "nbconvert_exporter": "python",
   "pygments_lexer": "ipython3",
   "version": "3.10.8"
  },
  "orig_nbformat": 4
 },
 "nbformat": 4,
 "nbformat_minor": 2
}
