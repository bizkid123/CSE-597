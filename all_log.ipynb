{
 "cells": [
  {
   "cell_type": "code",
   "execution_count": 41,
   "metadata": {},
   "outputs": [],
   "source": [
    "import pandas as pd"
   ]
  },
  {
   "cell_type": "code",
   "execution_count": 79,
   "metadata": {},
   "outputs": [
    {
     "name": "stdout",
     "output_type": "stream",
     "text": [
      "290134\n"
     ]
    }
   ],
   "source": [
    "# Load testing_all_log.csv\n",
    "df = pd.read_csv(\"testing_all_log.csv\")\n",
    "print(len(df))\n",
    "\n",
    "# other_df = pd.read_csv(\"log.csv\")\n",
    "# first_sentence = other_df[\"original_text\"][0].replace(\"[[\",\"\").replace(\"]]\",\"\").split(\" \")\n",
    "\n",
    "# Initialize text_key column with zeros\n",
    "df['text_key'] = 0\n",
    "\n",
    "# Iterate through rows and update text_key values\n",
    "current_text_key = 0\n",
    "for i in range(1, len(df)):\n",
    "    if df.loc[i, 'num_queries'] < df.loc[i - 1, 'num_queries']:\n",
    "        current_text_key += 1\n",
    "    df.loc[i, 'text_key'] = current_text_key"
   ]
  },
  {
   "cell_type": "code",
   "execution_count": 80,
   "metadata": {},
   "outputs": [
    {
     "data": {
      "text/html": [
       "<div>\n",
       "<style scoped>\n",
       "    .dataframe tbody tr th:only-of-type {\n",
       "        vertical-align: middle;\n",
       "    }\n",
       "\n",
       "    .dataframe tbody tr th {\n",
       "        vertical-align: top;\n",
       "    }\n",
       "\n",
       "    .dataframe thead th {\n",
       "        text-align: right;\n",
       "    }\n",
       "</style>\n",
       "<table border=\"1\" class=\"dataframe\">\n",
       "  <thead>\n",
       "    <tr style=\"text-align: right;\">\n",
       "      <th></th>\n",
       "      <th>attacked_text</th>\n",
       "      <th>attack_model_output</th>\n",
       "      <th>num_queries</th>\n",
       "      <th>improvement</th>\n",
       "      <th>text_key</th>\n",
       "    </tr>\n",
       "  </thead>\n",
       "  <tbody>\n",
       "    <tr>\n",
       "      <th>0</th>\n",
       "      <td>I love sci-fi and am willing to put up with a ...</td>\n",
       "      <td>tensor(0.0012)</td>\n",
       "      <td>1</td>\n",
       "      <td>True</td>\n",
       "      <td>0</td>\n",
       "    </tr>\n",
       "    <tr>\n",
       "      <th>1</th>\n",
       "      <td>I love sci-fi and am willing to put up with a ...</td>\n",
       "      <td>tensor(0.0016)</td>\n",
       "      <td>4</td>\n",
       "      <td>True</td>\n",
       "      <td>0</td>\n",
       "    </tr>\n",
       "    <tr>\n",
       "      <th>2</th>\n",
       "      <td>I love sci-fi and am willing to put up with a ...</td>\n",
       "      <td>tensor(0.0012)</td>\n",
       "      <td>4</td>\n",
       "      <td>False</td>\n",
       "      <td>0</td>\n",
       "    </tr>\n",
       "    <tr>\n",
       "      <th>3</th>\n",
       "      <td>I love sci-fi and am willing to put up with a ...</td>\n",
       "      <td>tensor(0.0014)</td>\n",
       "      <td>4</td>\n",
       "      <td>False</td>\n",
       "      <td>0</td>\n",
       "    </tr>\n",
       "    <tr>\n",
       "      <th>4</th>\n",
       "      <td>I love sci-fi and am willing to put up with a ...</td>\n",
       "      <td>tensor(0.0022)</td>\n",
       "      <td>10</td>\n",
       "      <td>True</td>\n",
       "      <td>0</td>\n",
       "    </tr>\n",
       "  </tbody>\n",
       "</table>\n",
       "</div>"
      ],
      "text/plain": [
       "                                       attacked_text attack_model_output   \n",
       "0  I love sci-fi and am willing to put up with a ...      tensor(0.0012)  \\\n",
       "1  I love sci-fi and am willing to put up with a ...      tensor(0.0016)   \n",
       "2  I love sci-fi and am willing to put up with a ...      tensor(0.0012)   \n",
       "3  I love sci-fi and am willing to put up with a ...      tensor(0.0014)   \n",
       "4  I love sci-fi and am willing to put up with a ...      tensor(0.0022)   \n",
       "\n",
       "   num_queries  improvement  text_key  \n",
       "0            1         True         0  \n",
       "1            4         True         0  \n",
       "2            4        False         0  \n",
       "3            4        False         0  \n",
       "4           10         True         0  "
      ]
     },
     "execution_count": 80,
     "metadata": {},
     "output_type": "execute_result"
    }
   ],
   "source": [
    "df.head()"
   ]
  },
  {
   "cell_type": "code",
   "execution_count": 82,
   "metadata": {},
   "outputs": [
    {
     "data": {
      "text/plain": [
       "'tensor(0.0012)'"
      ]
     },
     "execution_count": 82,
     "metadata": {},
     "output_type": "execute_result"
    }
   ],
   "source": [
    "df[\"attack_model_output\"][0]"
   ]
  },
  {
   "cell_type": "code",
   "execution_count": 109,
   "metadata": {},
   "outputs": [
    {
     "name": "stdout",
     "output_type": "stream",
     "text": [
      "0\n",
      "100\n",
      "200\n",
      "300\n",
      "400\n",
      "500\n"
     ]
    }
   ],
   "source": [
    "thresholds = [0.5, 0.8, 0.97, 0.997]\n",
    "successes = [0 for _ in range(len(thresholds))]\n",
    "threshold_queries = [0 for _ in range(len(thresholds))]\n",
    "threshold_diffs = [0 for _ in range(len(thresholds))]\n",
    "skips = 0\n",
    "\n",
    "for key in range(max(df[\"text_key\"]) + 1):\n",
    "    if key % 100 == 0:\n",
    "        print(key)\n",
    "    curr_row_successes = [-1 for _ in range(len(thresholds))]\n",
    "    curr_row_thresholds = [0 for _ in range(len(thresholds))]\n",
    "    curr_row_diffs = [0 for _ in range(len(thresholds))]\n",
    "    for i, row in enumerate(df[df[\"text_key\"] == key].iterrows()):\n",
    "        row = row[1]\n",
    "        if i == 0:\n",
    "            base_sentence = row[\"attacked_text\"].replace(\"[[\",\"\").replace(\"]]\",\"\").split(\" \")\n",
    "        if (row[\"num_queries\"] == 1) and float(row[\"attack_model_output\"][7:-1]) > 0.5:\n",
    "            skips += 1\n",
    "            continue\n",
    "        # print(row)\n",
    "        if float(row[\"attack_model_output\"][7:-1]) > 0.5:\n",
    "            if curr_row_successes[0] == -1:\n",
    "                curr_row_successes[0] = 1\n",
    "                curr_row_thresholds[0] = float(row[\"num_queries\"])\n",
    "                num_diff = sum([1 if base_sentence[i] != row[\"attacked_text\"].replace(\"[[\",\"\").replace(\"]]\",\"\").split(\" \")[i] else 0 for i in range(len(base_sentence))])\n",
    "                # print(base_sentence)\n",
    "                # print(row[\"attacked_text\"].replace(\"[[\",\"\").replace(\"]]\",\"\").split(\" \"))\n",
    "                \n",
    "                # print([1 if base_sentence[i] != row[\"attacked_text\"].replace(\"[[\",\"\").replace(\"]]\",\"\").split(\" \")[i] else 0 for i in range(len(base_sentence))])\n",
    "                # print(num_diff)\n",
    "                # err\n",
    "                curr_row_diffs[0] = num_diff\n",
    "        if float(row[\"attack_model_output\"][7:-1]) > 0.8:\n",
    "            if curr_row_successes[1] == -1:\n",
    "                curr_row_successes[1] = 1\n",
    "                curr_row_thresholds[1] = float(row[\"num_queries\"])\n",
    "                num_diff = sum([1 if base_sentence[i] != row[\"attacked_text\"].replace(\"[[\",\"\").replace(\"]]\",\"\").split(\" \")[i] else 0 for i in range(len(base_sentence))])\n",
    "                curr_row_diffs[1] = num_diff\n",
    "        if float(row[\"attack_model_output\"][7:-1]) > 0.97:\n",
    "            if curr_row_successes[2] == -1:\n",
    "                curr_row_successes[2] = 1\n",
    "                curr_row_thresholds[2] = float(row[\"num_queries\"])\n",
    "                num_diff = sum([1 if base_sentence[i] != row[\"attacked_text\"].replace(\"[[\",\"\").replace(\"]]\",\"\").split(\" \")[i] else 0 for i in range(len(base_sentence))])\n",
    "                curr_row_diffs[2] = num_diff\n",
    "        if float(row[\"attack_model_output\"][7:-1]) > 0.997:\n",
    "            if curr_row_successes[3] == -1:\n",
    "                curr_row_successes[3] = 1\n",
    "                curr_row_thresholds[3] = float(row[\"num_queries\"])\n",
    "                num_diff = sum([1 if base_sentence[i] != row[\"attacked_text\"].replace(\"[[\",\"\").replace(\"]]\",\"\").split(\" \")[i] else 0 for i in range(len(base_sentence))])\n",
    "                curr_row_diffs[3] = num_diff\n",
    "            \n",
    "    for i in range(len(thresholds)):\n",
    "        if curr_row_successes[i] == 1:\n",
    "            successes[i] += 1\n",
    "            threshold_queries[i] += curr_row_thresholds[i]\n",
    "            threshold_diffs[i] += curr_row_diffs[i] / len(base_sentence)\n",
    "\n",
    "\n",
    "    "
   ]
  },
  {
   "cell_type": "code",
   "execution_count": 110,
   "metadata": {},
   "outputs": [
    {
     "name": "stdout",
     "output_type": "stream",
     "text": [
      "movies/TV cinematography/TV\n",
      "usually often\n",
      "tried attempt\n",
      "good well\n",
      "Silly Dumb\n",
      "dialogues, talks,\n",
      "Trek). Hiking).\n",
      "actions measures\n",
      "reactions reaction\n",
      "wooden wood\n",
      "makers manufacturers\n",
      "rubbish litter\n",
      "say says\n",
      "\"Gene \"Genetics\n",
      "otherwise else\n",
      "ashes cinder\n",
      "must gotta\n",
      "dull, drab,\n",
      "cheap, cheaper,\n",
      "(watching (staring\n",
      "advert ads\n",
      "show exhibitions\n",
      "Spoiler. Baffle.\n",
      "So, Therefore,\n",
      "kill kiiled\n",
      "character. nature.\n",
      "actor. protagonist.\n"
     ]
    }
   ],
   "source": [
    "l1 = ['I', 'love', 'sci-fi', 'and', 'am', 'willing', 'to', 'put', 'up', 'with', 'a', 'lot.', 'Sci-fi', 'movies/TV', 'are', 'usually', 'underfunded,', 'under-appreciated', 'and', 'misunderstood.', 'I', 'tried', 'to', 'like', 'this,', 'I', 'really', 'did,', 'but', 'it', 'is', 'to', 'good', 'TV', 'sci-fi', 'as', 'Babylon', '5', 'is', 'to', 'Star', 'Trek', '(the', 'original).', 'Silly', 'prosthetics,', 'cheap', 'cardboard', 'sets,', 'stilted', 'dialogues,', 'CG', 'that', \"doesn't\", 'match', 'the', 'background,', 'and', 'painfully', 'one-dimensional', 'characters', 'cannot', 'be', 'overcome', 'with', 'a', \"'sci-fi'\", 'setting.', \"(I'm\", 'sure', 'there', 'are', 'those', 'of', 'you', 'out', 'there', 'who', 'think', 'Babylon', '5', 'is', 'good', 'sci-fi', 'TV.', \"It's\", 'not.', \"It's\", 'clichéd', 'and', 'uninspiring.)', 'While', 'US', 'viewers', 'might', 'like', 'emotion', 'and', 'character', 'development,', 'sci-fi', 'is', 'a', 'genre', 'that', 'does', 'not', 'take', 'itself', 'seriously', '(cf.', 'Star', 'Trek).', 'It', 'may', 'treat', 'important', 'issues,', 'yet', 'not', 'as', 'a', 'serious', 'philosophy.', \"It's\", 'really', 'difficult', 'to', 'care', 'about', 'the', 'characters', 'here', 'as', 'they', 'are', 'not', 'simply', 'foolish,', 'just', 'missing', 'a', 'spark', 'of', 'life.', 'Their', 'actions', 'and', 'reactions', 'are', 'wooden', 'and', 'predictable,', 'often', 'painful', 'to', 'watch.', 'The', 'makers', 'of', 'Earth', 'KNOW', \"it's\", 'rubbish', 'as', 'they', 'have', 'to', 'always', 'say', '\"Gene', \"Roddenberry's\", 'Earth...\"', 'otherwise', 'people', 'would', 'not', 'continue', 'watching.', \"Roddenberry's\", 'ashes', 'must', 'be', 'turning', 'in', 'their', 'orbit', 'as', 'this', 'dull,', 'cheap,', 'poorly', 'edited', '(watching', 'it', 'without', 'advert', 'breaks', 'really', 'brings', 'this', 'home)', 'trudging', 'Trabant', 'of', 'a', 'show', 'lumbers', 'into', 'space.', 'Spoiler.', 'So,', 'kill', 'off', 'a', 'main', 'character.', 'And', 'then', 'bring', 'him', 'back', 'as', 'another', 'actor.', 'Jeeez!', 'Dallas', 'all', 'over', 'again.']\n",
    "l2 = ['I', 'love', 'sci-fi', 'and', 'am', 'willing', 'to', 'put', 'up', 'with', 'a', 'lot.', 'Sci-fi', 'cinematography/TV', 'are', 'often', 'underfunded,', 'under-appreciated', 'and', 'misunderstood.', 'I', 'attempt', 'to', 'like', 'this,', 'I', 'really', 'did,', 'but', 'it', 'is', 'to', 'well', 'TV', 'sci-fi', 'as', 'Babylon', '5', 'is', 'to', 'Star', 'Trek', '(the', 'original).', 'Dumb', 'prosthetics,', 'cheap', 'cardboard', 'sets,', 'stilted', 'talks,', 'CG', 'that', \"doesn't\", 'match', 'the', 'background,', 'and', 'painfully', 'one-dimensional', 'characters', 'cannot', 'be', 'overcome', 'with', 'a', \"'sci-fi'\", 'setting.', \"(I'm\", 'sure', 'there', 'are', 'those', 'of', 'you', 'out', 'there', 'who', 'think', 'Babylon', '5', 'is', 'good', 'sci-fi', 'TV.', \"It's\", 'not.', \"It's\", 'clichéd', 'and', 'uninspiring.)', 'While', 'US', 'viewers', 'might', 'like', 'emotion', 'and', 'character', 'development,', 'sci-fi', 'is', 'a', 'genre', 'that', 'does', 'not', 'take', 'itself', 'seriously', '(cf.', 'Star', 'Hiking).', 'It', 'may', 'treat', 'important', 'issues,', 'yet', 'not', 'as', 'a', 'serious', 'philosophy.', \"It's\", 'really', 'difficult', 'to', 'care', 'about', 'the', 'characters', 'here', 'as', 'they', 'are', 'not', 'simply', 'foolish,', 'just', 'missing', 'a', 'spark', 'of', 'life.', 'Their', 'measures', 'and', 'reaction', 'are', 'wood', 'and', 'predictable,', 'often', 'painful', 'to', 'watch.', 'The', 'manufacturers', 'of', 'Earth', 'KNOW', \"it's\", 'litter', 'as', 'they', 'have', 'to', 'always', 'says', '\"Genetics', \"Roddenberry's\", 'Earth...\"', 'else', 'people', 'would', 'not', 'continue', 'watching.', \"Roddenberry's\", 'cinder', 'gotta', 'be', 'turning', 'in', 'their', 'orbit', 'as', 'this', 'drab,', 'cheaper,', 'poorly', 'edited', '(staring', 'it', 'without', 'ads', 'breaks', 'really', 'brings', 'this', 'home)', 'trudging', 'Trabant', 'of', 'a', 'exhibitions', 'lumbers', 'into', 'space.', 'Baffle.', 'Therefore,', 'kiiled', 'off', 'a', 'main', 'nature.', 'And', 'then', 'bring', 'him', 'back', 'as', 'another', 'protagonist.', 'Jeeez!', 'Dallas', 'all', 'over', 'again.']\n",
    "\n",
    "for x,y in zip(l1,l2):\n",
    "    if x != y:\n",
    "        print(x,y)"
   ]
  },
  {
   "cell_type": "code",
   "execution_count": 111,
   "metadata": {},
   "outputs": [
    {
     "name": "stdout",
     "output_type": "stream",
     "text": [
      "Skips: 29\n",
      "Success rate for threshold 0.5: 0.9722735674676525\n",
      "Average queries for threshold 0.5: 111.25285171102662\n",
      "Average diffs for threshold 0.5: 0.07223578754254072\n",
      "\n",
      "Success rate for threshold 0.8: 0.9426987060998152\n",
      "Average queries for threshold 0.8: 131.2764705882353\n",
      "Average diffs for threshold 0.8: 0.0829187879834899\n",
      "\n",
      "Success rate for threshold 0.97: 0.866913123844732\n",
      "Average queries for threshold 0.97: 170.62473347547976\n",
      "Average diffs for threshold 0.97: 0.10171808600078702\n",
      "\n",
      "Success rate for threshold 0.997: 0.6229205175600739\n",
      "Average queries for threshold 0.997: 269.85459940652817\n",
      "Average diffs for threshold 0.997: 0.14608716049900713\n",
      "\n"
     ]
    }
   ],
   "source": [
    "print(\"Skips: {}\".format(skips))\n",
    "\n",
    "for i in range(len(thresholds)):\n",
    "    success_rate = successes[i] / (1 + max(df[\"text_key\"]) - skips)\n",
    "    avg_queries = threshold_queries[i] / successes[i]\n",
    "    avg_diffs = threshold_diffs[i] / successes[i]\n",
    "    \n",
    "    print(\"Success rate for threshold {}: {}\".format(thresholds[i], success_rate))\n",
    "    print(\"Average queries for threshold {}: {}\".format(thresholds[i], avg_queries))\n",
    "    print(\"Average diffs for threshold {}: {}\".format(thresholds[i], avg_diffs))\n",
    "    print()\n",
    "    "
   ]
  },
  {
   "cell_type": "code",
   "execution_count": null,
   "metadata": {},
   "outputs": [],
   "source": [
    "Skips: 29\n",
    "Success rate for threshold 0.5: 0.9722735674676525\n",
    "Average queries for threshold 0.5: 523.8517110266159\n",
    "\n",
    "Success rate for threshold 0.8: 0.9426987060998152\n",
    "Average queries for threshold 0.8: 527.8764705882353\n",
    "\n",
    "Success rate for threshold 0.97: 0.866913123844732\n",
    "Average queries for threshold 0.97: 540.8379530916844\n",
    "\n",
    "Success rate for threshold 0.997: 0.6229205175600739\n",
    "Average queries for threshold 0.997: 549.6112759643917"
   ]
  },
  {
   "cell_type": "code",
   "execution_count": 91,
   "metadata": {},
   "outputs": [
    {
     "data": {
      "text/plain": [
       "570"
      ]
     },
     "execution_count": 91,
     "metadata": {},
     "output_type": "execute_result"
    }
   ],
   "source": [
    "1 + max(df[\"text_key\"])"
   ]
  },
  {
   "cell_type": "code",
   "execution_count": 76,
   "metadata": {},
   "outputs": [
    {
     "name": "stdout",
     "output_type": "stream",
     "text": [
      "290134\n"
     ]
    }
   ],
   "source": [
    "# Get number of unique original texts\n",
    "print(len(df['attacked_text'].unique()))"
   ]
  },
  {
   "cell_type": "code",
   "execution_count": 77,
   "metadata": {},
   "outputs": [
    {
     "data": {
      "text/html": [
       "<div>\n",
       "<style scoped>\n",
       "    .dataframe tbody tr th:only-of-type {\n",
       "        vertical-align: middle;\n",
       "    }\n",
       "\n",
       "    .dataframe tbody tr th {\n",
       "        vertical-align: top;\n",
       "    }\n",
       "\n",
       "    .dataframe thead th {\n",
       "        text-align: right;\n",
       "    }\n",
       "</style>\n",
       "<table border=\"1\" class=\"dataframe\">\n",
       "  <thead>\n",
       "    <tr style=\"text-align: right;\">\n",
       "      <th></th>\n",
       "      <th>attacked_text</th>\n",
       "      <th>attack_model_output</th>\n",
       "      <th>num_queries</th>\n",
       "      <th>improvement</th>\n",
       "    </tr>\n",
       "  </thead>\n",
       "  <tbody>\n",
       "    <tr>\n",
       "      <th>0</th>\n",
       "      <td>I love sci-fi and am willing to put up with a ...</td>\n",
       "      <td>tensor(0.0012)</td>\n",
       "      <td>1</td>\n",
       "      <td>True</td>\n",
       "    </tr>\n",
       "    <tr>\n",
       "      <th>1</th>\n",
       "      <td>I love sci-fi and am willing to put up with a ...</td>\n",
       "      <td>tensor(0.0016)</td>\n",
       "      <td>4</td>\n",
       "      <td>True</td>\n",
       "    </tr>\n",
       "    <tr>\n",
       "      <th>4</th>\n",
       "      <td>I love sci-fi and am willing to put up with a ...</td>\n",
       "      <td>tensor(0.0022)</td>\n",
       "      <td>10</td>\n",
       "      <td>True</td>\n",
       "    </tr>\n",
       "    <tr>\n",
       "      <th>5</th>\n",
       "      <td>I love sci-fi and am willing to put up with a ...</td>\n",
       "      <td>tensor(0.0026)</td>\n",
       "      <td>10</td>\n",
       "      <td>True</td>\n",
       "    </tr>\n",
       "    <tr>\n",
       "      <th>12</th>\n",
       "      <td>I love sci-fi and am willing to put up with a ...</td>\n",
       "      <td>tensor(0.0033)</td>\n",
       "      <td>15</td>\n",
       "      <td>True</td>\n",
       "    </tr>\n",
       "  </tbody>\n",
       "</table>\n",
       "</div>"
      ],
      "text/plain": [
       "                                        attacked_text attack_model_output   \n",
       "0   I love sci-fi and am willing to put up with a ...      tensor(0.0012)  \\\n",
       "1   I love sci-fi and am willing to put up with a ...      tensor(0.0016)   \n",
       "4   I love sci-fi and am willing to put up with a ...      tensor(0.0022)   \n",
       "5   I love sci-fi and am willing to put up with a ...      tensor(0.0026)   \n",
       "12  I love sci-fi and am willing to put up with a ...      tensor(0.0033)   \n",
       "\n",
       "    num_queries  improvement  \n",
       "0             1         True  \n",
       "1             4         True  \n",
       "4            10         True  \n",
       "5            10         True  \n",
       "12           15         True  "
      ]
     },
     "execution_count": 77,
     "metadata": {},
     "output_type": "execute_result"
    }
   ],
   "source": [
    "improvements = df[df[\"improvement\"]]\n",
    "\n",
    "improvements.head()"
   ]
  },
  {
   "cell_type": "code",
   "execution_count": 78,
   "metadata": {},
   "outputs": [],
   "source": [
    "def print_text(text):\n",
    "    for i in range(0, len(text), 100):\n",
    "        print(text[i:i+100])"
   ]
  },
  {
   "cell_type": "code",
   "execution_count": 64,
   "metadata": {},
   "outputs": [
    {
     "name": "stdout",
     "output_type": "stream",
     "text": [
      "['tensor(0.0072)' 'tensor(0.0100)' 'tensor(0.0136)' 'tensor(0.0137)'\n",
      " 'tensor(0.0166)' 'tensor(0.0336)' 'tensor(0.0412)' 'tensor(0.0475)'\n",
      " 'tensor(0.0683)' 'tensor(0.1559)' 'tensor(0.1730)' 'tensor(0.1754)'\n",
      " 'tensor(0.1854)' 'tensor(0.1854)' 'tensor(0.1888)' 'tensor(0.5429)'\n",
      " 'tensor(0.5961)' 'tensor(0.5970)' 'tensor(0.6439)' 'tensor(0.6622)'\n",
      " 'tensor(0.6622)' 'tensor(0.7835)' 'tensor(0.8035)' 'tensor(0.8328)'\n",
      " 'tensor(0.8865)' 'tensor(0.9312)' 'tensor(0.9378)' 'tensor(0.9389)'\n",
      " 'tensor(0.9562)' 'tensor(0.9578)' 'tensor(0.9669)' 'tensor(0.9799)'\n",
      " 'tensor(0.9862)' 'tensor(0.9885)' 'tensor(0.9897)' 'tensor(0.9904)'\n",
      " 'tensor(0.9915)' 'tensor(0.9922)' 'tensor(0.9926)' 'tensor(0.9936)'\n",
      " 'tensor(0.9936)' 'tensor(0.9939)' 'tensor(0.9940)' 'tensor(0.9941)'\n",
      " 'tensor(0.9947)' 'tensor(0.9954)' 'tensor(0.9954)' 'tensor(0.9955)'\n",
      " 'tensor(0.9956)' 'tensor(0.9965)' 'tensor(0.9966)' 'tensor(0.9968)'\n",
      " 'tensor(0.9970)' 'tensor(0.9970)' 'tensor(0.9971)' 'tensor(0.9972)'\n",
      " 'tensor(0.9973)' 'tensor(0.9973)' 'tensor(0.9974)' 'tensor(0.9974)'\n",
      " 'tensor(0.9977)' 'tensor(0.9978)' 'tensor(0.9978)' 'tensor(0.9979)'\n",
      " 'tensor(0.9979)' 'tensor(0.9979)' 'tensor(0.9981)' 'tensor(0.9981)'\n",
      " 'tensor(0.9981)' 'tensor(0.9981)' 'tensor(0.9981)' 'tensor(0.9981)'\n",
      " 'tensor(0.9982)' 'tensor(0.9982)' 'tensor(0.9982)' 'tensor(0.9983)'\n",
      " 'tensor(0.9983)' 'tensor(0.9984)' 'tensor(0.9984)' 'tensor(0.9984)'\n",
      " 'tensor(0.9984)' 'tensor(0.9985)' 'tensor(0.9985)' 'tensor(0.9985)']\n"
     ]
    }
   ],
   "source": [
    "improvements[improvements[\"text_key\"] == 1][\"attack_model_output\"].values\n",
    "print((improvements[improvements[\"text_key\"] == 1][\"attack_model_output\"].values))"
   ]
  },
  {
   "cell_type": "code",
   "execution_count": 46,
   "metadata": {},
   "outputs": [],
   "source": [
    "# Add a column for each input_text. Determine this because any time num_queries is 1, it's a new input_text.\n",
    "df['text_key'] = 0\n"
   ]
  },
  {
   "cell_type": "code",
   "execution_count": null,
   "metadata": {},
   "outputs": [],
   "source": []
  }
 ],
 "metadata": {
  "kernelspec": {
   "display_name": "nlp",
   "language": "python",
   "name": "python3"
  },
  "language_info": {
   "codemirror_mode": {
    "name": "ipython",
    "version": 3
   },
   "file_extension": ".py",
   "mimetype": "text/x-python",
   "name": "python",
   "nbconvert_exporter": "python",
   "pygments_lexer": "ipython3",
   "version": "3.10.8"
  },
  "orig_nbformat": 4
 },
 "nbformat": 4,
 "nbformat_minor": 2
}
